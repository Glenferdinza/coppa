{
 "cells": [
  {
   "cell_type": "markdown",
   "id": "2103bdc3",
   "metadata": {},
   "source": [
    "# **Used Library**"
   ]
  },
  {
   "cell_type": "code",
   "execution_count": 2,
   "id": "a97135cc",
   "metadata": {},
   "outputs": [],
   "source": [
    "import pandas as pd\n",
    "import numpy as np\n",
    "from sklearn.impute import SimpleImputer\n",
    "from sklearn.model_selection import StratifiedKFold\n",
    "from sklearn.metrics import roc_auc_score, roc_curve\n",
    "from category_encoders import TargetEncoder\n",
    "from lightgbm import LGBMClassifier, early_stopping, log_evaluation"
   ]
  },
  {
   "cell_type": "markdown",
   "id": "87b81d6c",
   "metadata": {},
   "source": [
    "# **Load Dataset**"
   ]
  },
  {
   "cell_type": "code",
   "execution_count": 3,
   "id": "9e26f643",
   "metadata": {},
   "outputs": [],
   "source": [
    "train = pd.read_csv(\"copparisk/train.csv\")\n",
    "target = pd.read_csv(\"copparisk/target.csv\")\n",
    "test = pd.read_csv(\"copparisk/test.csv\")\n",
    "submission = pd.read_csv(\"copparisk/submission_format.csv\")\n",
    "\n",
    "X = train.copy()\n",
    "y = target[\"coppaRisk\"]\n",
    "X_test = test.drop(columns=[\"ID\"])"
   ]
  },
  {
   "cell_type": "markdown",
   "id": "527ca27e",
   "metadata": {},
   "source": [
    "# **Data cleaning & Feature Engineering**"
   ]
  },
  {
   "cell_type": "code",
   "execution_count": 4,
   "id": "d2a7a62f",
   "metadata": {},
   "outputs": [],
   "source": [
    "def clean_and_engineer(df):\n",
    "    df = df.copy()\n",
    "\n",
    "    # Missing sebagai NaN\n",
    "    df['developerCountry'] = df['developerCountry'].replace([\n",
    "        \"ADDRESS NOT LISTED IN PLAYSTORE\", \n",
    "        \"CANNOT IDENTIFY COUNTRY\"], np.nan)\n",
    "\n",
    "    # Parse downloads\n",
    "    def parse_downloads(x):\n",
    "        if isinstance(x, str) and \"-\" in x:\n",
    "            try:\n",
    "                return int(x.split(\"-\")[1].strip().replace(\" \", \"\"))\n",
    "            except:\n",
    "                return np.nan\n",
    "        try:\n",
    "            return int(x)\n",
    "        except:\n",
    "            return np.nan\n",
    "    df['downloads'] = df['downloads'].apply(parse_downloads)\n",
    "\n",
    "    # Log transform\n",
    "    df['userRatingCount'] = pd.to_numeric(df['userRatingCount'], errors='coerce')\n",
    "    df['downloads_log'] = np.log1p(df['downloads'])\n",
    "    df['userRatingCount_log'] = np.log1p(df['userRatingCount'])\n",
    "\n",
    "    # Rasio dan interaksi\n",
    "    df['rating_per_download'] = df['userRatingCount'] / (df['downloads'] + 1)\n",
    "    df['country_genre'] = df['developerCountry'].astype(str) + \"_\" + df['primaryGenreName'].astype(str)\n",
    "    df[\"rating_x_brand_safety\"] = df[\"averageUserRating\"] * df[\"appContentBrandSafetyRating\"].map({'low': 0, 'medium': 1, 'high': 2})\n",
    "    df[\"log_adspent\"] = np.log1p(df[\"adSpent\"])\n",
    "    df[\"is_old_app\"] = (df[\"appAge\"] > 365).astype(int)\n",
    "\n",
    "    # Map rating teks ke ordinal\n",
    "    rating_map = {'low': 0, 'medium': 1, 'high': 2}\n",
    "    for col in ['hasTermsOfServiceLinkRating', 'appContentBrandSafetyRating', \n",
    "                'appDescriptionBrandSafetyRating', 'mfaRating']:\n",
    "        df[col] = df[col].map(rating_map)\n",
    "\n",
    "    return df\n",
    "\n",
    "X = clean_and_engineer(X)\n",
    "X_test = clean_and_engineer(X_test)"
   ]
  },
  {
   "cell_type": "markdown",
   "id": "3a3d9dfa",
   "metadata": {},
   "source": [
    "# **Imputate the Missing Values**"
   ]
  },
  {
   "cell_type": "code",
   "execution_count": 5,
   "id": "b2627165",
   "metadata": {},
   "outputs": [],
   "source": [
    "numeric_cols = X.select_dtypes(include=np.number).columns.tolist()\n",
    "categorical_cols = X.select_dtypes(exclude=np.number).columns.tolist()\n",
    "\n",
    "num_imputer = SimpleImputer(strategy=\"mean\")\n",
    "cat_imputer = SimpleImputer(strategy=\"most_frequent\")\n",
    "\n",
    "X[numeric_cols] = pd.DataFrame(num_imputer.fit_transform(X[numeric_cols]), columns=numeric_cols, index=X.index)\n",
    "X_test[numeric_cols] = pd.DataFrame(num_imputer.transform(X_test[numeric_cols]), columns=numeric_cols, index=X_test.index)\n",
    "\n",
    "X[categorical_cols] = pd.DataFrame(cat_imputer.fit_transform(X[categorical_cols]), columns=categorical_cols, index=X.index)\n",
    "X_test[categorical_cols] = pd.DataFrame(cat_imputer.transform(X_test[categorical_cols]), columns=categorical_cols, index=X_test.index)"
   ]
  },
  {
   "cell_type": "markdown",
   "id": "48fe970d",
   "metadata": {},
   "source": [
    "# **Target Encoding**"
   ]
  },
  {
   "cell_type": "code",
   "execution_count": 6,
   "id": "eaedb9c8",
   "metadata": {},
   "outputs": [],
   "source": [
    "encoder = TargetEncoder()\n",
    "X = encoder.fit_transform(X, y)\n",
    "X_test = encoder.transform(X_test)"
   ]
  },
  {
   "cell_type": "markdown",
   "id": "26ae5e65",
   "metadata": {},
   "source": []
  },
  {
   "cell_type": "markdown",
   "id": "baf53393",
   "metadata": {},
   "source": [
    "# **Model Training**"
   ]
  },
  {
   "cell_type": "code",
   "execution_count": 7,
   "id": "a7e08600",
   "metadata": {},
   "outputs": [
    {
     "name": "stdout",
     "output_type": "stream",
     "text": [
      "Fold 1 AUC: 0.88704\n",
      "Fold 2 AUC: 0.91018\n",
      "Fold 3 AUC: 0.88621\n",
      "Fold 4 AUC: 0.87673\n",
      "Fold 5 AUC: 0.87512\n",
      "\n",
      "Overall OOF AUC: 0.88679\n"
     ]
    }
   ],
   "source": [
    "from sklearn.ensemble import RandomForestClassifier\n",
    "from sklearn.metrics import roc_auc_score\n",
    "from sklearn.model_selection import StratifiedKFold\n",
    "import numpy as np\n",
    "\n",
    "# Inisialisasi model\n",
    "rf_model = RandomForestClassifier(\n",
    "    n_estimators=200,\n",
    "    max_depth=None,\n",
    "    class_weight='balanced',\n",
    "    random_state=42,\n",
    "    n_jobs=-1\n",
    ")\n",
    "\n",
    "# Stratified K-Fold\n",
    "skf = StratifiedKFold(n_splits=5, shuffle=True, random_state=42)\n",
    "\n",
    "oof_preds = np.zeros(len(X))\n",
    "test_preds = np.zeros(len(X_test))\n",
    "\n",
    "for fold, (train_idx, val_idx) in enumerate(skf.split(X, y)):\n",
    "    X_train_fold, y_train_fold = X.iloc[train_idx], y.iloc[train_idx]\n",
    "    X_val_fold, y_val_fold = X.iloc[val_idx], y.iloc[val_idx]\n",
    "    \n",
    "    rf_model.fit(X_train_fold, y_train_fold)\n",
    "    \n",
    "    val_pred = rf_model.predict_proba(X_val_fold)[:, 1]\n",
    "    test_pred = rf_model.predict_proba(X_test)[:, 1]\n",
    "    \n",
    "    oof_preds[val_idx] = val_pred\n",
    "    test_preds += test_pred / skf.n_splits\n",
    "    \n",
    "    fold_auc = roc_auc_score(y_val_fold, val_pred)\n",
    "    print(f\"Fold {fold+1} AUC: {fold_auc:.5f}\")\n",
    "\n",
    "# Evaluasi keseluruhan\n",
    "overall_auc = roc_auc_score(y, oof_preds)\n",
    "print(f\"\\nOverall OOF AUC: {overall_auc:.5f}\")\n"
   ]
  },
  {
   "cell_type": "markdown",
   "id": "fd473481",
   "metadata": {},
   "source": [
    "# **Threshold Optimization**"
   ]
  },
  {
   "cell_type": "code",
   "execution_count": 8,
   "id": "39744b6e",
   "metadata": {},
   "outputs": [
    {
     "name": "stdout",
     "output_type": "stream",
     "text": [
      "OOF AUC Score: 0.88679\n",
      "Best Threshold: 0.0550\n"
     ]
    }
   ],
   "source": [
    "# AUC Score\n",
    "auc_score = roc_auc_score(y, oof_preds)\n",
    "print(f\"OOF AUC Score: {auc_score:.5f}\")\n",
    "\n",
    "# Cari Threshold terbaik\n",
    "fpr, tpr, thresholds = roc_curve(y, oof_preds)\n",
    "best_threshold = thresholds[np.argmax(tpr - fpr)]\n",
    "print(f\"Best Threshold: {best_threshold:.4f}\")"
   ]
  },
  {
   "cell_type": "markdown",
   "id": "6e7b2887",
   "metadata": {},
   "source": [
    "# **Create the Submission File**"
   ]
  },
  {
   "cell_type": "code",
   "execution_count": 9,
   "id": "5986cd3f",
   "metadata": {},
   "outputs": [
    {
     "ename": "NameError",
     "evalue": "name 'best_thresh' is not defined",
     "output_type": "error",
     "traceback": [
      "\u001b[1;31m---------------------------------------------------------------------------\u001b[0m",
      "\u001b[1;31mNameError\u001b[0m                                 Traceback (most recent call last)",
      "Cell \u001b[1;32mIn[9], line 1\u001b[0m\n\u001b[1;32m----> 1\u001b[0m submission[\u001b[38;5;124m\"\u001b[39m\u001b[38;5;124mcoppaRisk\u001b[39m\u001b[38;5;124m\"\u001b[39m] \u001b[38;5;241m=\u001b[39m (test_preds \u001b[38;5;241m>\u001b[39m best_thresh)\u001b[38;5;241m.\u001b[39mastype(\u001b[38;5;28mbool\u001b[39m)\n\u001b[0;32m      2\u001b[0m submission\u001b[38;5;241m.\u001b[39mto_csv(\u001b[38;5;124m\"\u001b[39m\u001b[38;5;124msubmission.csv\u001b[39m\u001b[38;5;124m\"\u001b[39m, index\u001b[38;5;241m=\u001b[39m\u001b[38;5;28;01mFalse\u001b[39;00m)\n",
      "\u001b[1;31mNameError\u001b[0m: name 'best_thresh' is not defined"
     ]
    }
   ],
   "source": [
    "submission[\"coppaRisk\"] = (test_preds > best_thresh).astype(bool)\n",
    "submission.to_csv(\"submission.csv\", index=False)"
   ]
  }
 ],
 "metadata": {
  "kernelspec": {
   "display_name": "base",
   "language": "python",
   "name": "python3"
  },
  "language_info": {
   "codemirror_mode": {
    "name": "ipython",
    "version": 3
   },
   "file_extension": ".py",
   "mimetype": "text/x-python",
   "name": "python",
   "nbconvert_exporter": "python",
   "pygments_lexer": "ipython3",
   "version": "3.12.7"
  }
 },
 "nbformat": 4,
 "nbformat_minor": 5
}
